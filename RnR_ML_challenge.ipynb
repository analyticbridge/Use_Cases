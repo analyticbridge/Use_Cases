{
  "cells": [
    {
      "cell_type": "markdown",
      "metadata": {
        "id": "view-in-github",
        "colab_type": "text"
      },
      "source": [
        "<a href=\"https://colab.research.google.com/github/analyticbridge/Use_Cases/blob/master/RnR_ML_challenge.ipynb\" target=\"_parent\"><img src=\"https://colab.research.google.com/assets/colab-badge.svg\" alt=\"Open In Colab\"/></a>"
      ]
    },
    {
      "cell_type": "markdown",
      "metadata": {
        "id": "NOHLZHtggQtk"
      },
      "source": [
        "<a href=\"https://novoic.com\"><img src=\"https://assets.novoic.com/logo_320px.png\" alt=\"Novoic logo\" width=\"160\"/></a>\n",
        "\n",
        "# Novoic ML challenge – text data"
      ]
    },
    {
      "cell_type": "markdown",
      "metadata": {
        "id": "zlll6t_8M5fy"
      },
      "source": [
        "## Introduction\n",
        "Welcome to the Novoic ML challenge!\n",
        "\n",
        "This is an open-ended ML challenge to help us identify exceptional researchers and engineers. The guidance below describes an open-source dataset that you can use to demonstrate your research skills, creativity, coding ability, scientific communication or anything else you think is important to the role.\n",
        "\n",
        "We recommend you spend around three hours on this (more or less if you wish), which you do not have to do in one go. Please make use of any resources you like. Feel free to shoot us an email with any questions that you might have!\n",
        "\n",
        "This is the text version of the challenge. Also available are audio and image versions. You can access all three from [this GitHub repo](https://github.com/novoic/ml-challenge).\n",
        "\n",
        "Best of luck – we're looking forward to seeing what you can do!"
      ]
    },
    {
      "cell_type": "markdown",
      "metadata": {
        "id": "GUJZyzMB_2TA"
      },
      "source": [
        "## Prepare the data\n",
        "Copy the dataset to a local directory – this should take a few seconds."
      ]
    },
    {
      "cell_type": "code",
      "execution_count": null,
      "metadata": {
        "id": "AaRNBDz4nN1t"
      },
      "outputs": [],
      "source": [
        "!mkdir -p data\n",
        "!gsutil -m cp -r gs://novoic-ml-challenge-text-data/* ./data"
      ]
    },
    {
      "cell_type": "markdown",
      "metadata": {
        "id": "BpJ7NOCXkCKs"
      },
      "source": [
        "## Data description\n",
        "\n",
        "The data comprises 5,574 SMS messages. Each message is labelled as either 'ham' (legitimate) or spam.\n",
        "\n",
        "Each line in `data.txt` corresponds to one message. The first word is the data label (either `ham` or `spam`), followed by a tab (`\\t`) character and then the message."
      ]
    },
    {
      "cell_type": "code",
      "execution_count": null,
      "metadata": {
        "id": "muZyXMc8rbAK"
      },
      "outputs": [],
      "source": [
        "with open('data/data.txt', 'r') as f:\n",
        "    msgs = f.read().splitlines()"
      ]
    },
    {
      "cell_type": "code",
      "execution_count": null,
      "metadata": {
        "id": "6Ey4KqN1uBqN"
      },
      "outputs": [],
      "source": [
        "print(msgs[10])\n",
        "print(msgs[11])"
      ]
    },
    {
      "cell_type": "markdown",
      "metadata": {
        "id": "UeYkLol_rZoT"
      },
      "source": [
        "\n",
        "For more information about the dataset, see its `README.md`.\n",
        "\n",
        "Directory structure:\n",
        "```\n",
        "data/\n",
        "├── data.txt\n",
        "├── LICENSE\n",
        "└── README.md\n",
        "```\n",
        "\n",
        "\n",
        "\n",
        "\n"
      ]
    },
    {
      "cell_type": "markdown",
      "metadata": {
        "id": "K7x5PwDaFDdy"
      },
      "source": [
        "## The challenge\n",
        "This is an open-ended challenge and we want to witness your creativity. Some suggestions:\n",
        "- Data exploration/visualization\n",
        "- Binary classification\n",
        "- Unsupervised clustering\n",
        "- Model explainability\n",
        "\n",
        "You're welcome to explore one or more of these topics, or do something entirely different.\n",
        "\n",
        "Create, iterate on, and validate your work in this notebook, using any packages of your choosing.\n",
        "\n",
        "**The role you are interviewing for will contain a fair amount of deep learning knowledge. Because of that, we expect your submission to contain some deep learning, using your favorite framework. Our preference is PyTorch.** \n",
        "\n",
        "You can access a GPU via `Runtime -> Change runtime type` in the toolbar.\n",
        "\n",
        "## Submission instructions\n",
        "Once you're done, send us this `.ipynb` notebook (or a link to it hosted on Google Drive/GitHub with appropriate permissions) by email, ensuring that outputs from cells (text, plots etc) are preserved.\n",
        "\n",
        "If you haven't applied already, make sure you submit an application first through our [job board](https://novoic.com/careers/)."
      ]
    },
    {
      "cell_type": "markdown",
      "metadata": {
        "id": "VXJdZxNrK008"
      },
      "source": [
        "## Your submission\n",
        "The below sets up PyTorch as an example but feel free to use any framework you like."
      ]
    },
    {
      "cell_type": "code",
      "execution_count": null,
      "metadata": {
        "id": "t7A3vYU3LRz_"
      },
      "outputs": [],
      "source": [
        "import torch"
      ]
    },
    {
      "cell_type": "markdown",
      "metadata": {
        "id": "Y8PoDC7xLkU4"
      },
      "source": [
        "Take the wheel!"
      ]
    }
  ],
  "metadata": {
    "accelerator": "GPU",
    "colab": {
      "provenance": [],
      "toc_visible": true,
      "include_colab_link": true
    },
    "kernelspec": {
      "display_name": "Python 3",
      "language": "python",
      "name": "python3"
    },
    "language_info": {
      "codemirror_mode": {
        "name": "ipython",
        "version": 3
      },
      "file_extension": ".py",
      "mimetype": "text/x-python",
      "name": "python",
      "nbconvert_exporter": "python",
      "pygments_lexer": "ipython3",
      "version": "3.7.6"
    }
  },
  "nbformat": 4,
  "nbformat_minor": 0
}